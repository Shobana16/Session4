{
 "cells": [
  {
   "cell_type": "markdown",
   "metadata": {},
   "source": [
    "Task 1"
   ]
  },
  {
   "cell_type": "markdown",
   "metadata": {},
   "source": [
    "1.\n",
    "Given a sequence of n values x1, x2, ..., xn and a window size k>0, the k-th moving average of\n",
    "the given sequence is defined as follows:\n",
    "The moving average sequence has n-k+1 elements as shown below.\n",
    "The moving averages with k=4 of a ten-value sequence (n=10) is shown below\n",
    "i 1 2 3 4 5 6 7 8 9 10\n",
    "===== == == == == == == == == == ==\n",
    "Input 10 20 30 40 50 60 70 80 90 100\n",
    "y1 25 = (10+20+30+40)/4\n",
    "y2 35 = (20+30+40+50)/4\n",
    "y3 45 = (30+40+50+60)/4\n",
    "y4 55 = (40+50+60+70)/4\n",
    "y5 65 = (50+60+70+80)/4\n",
    "y6 75 = (60+70+80+90)/4\n",
    "y7 85 = (70+80+90+100)/4\n",
    "\n",
    "Thus, the moving average sequence has n-k+1=10-4+1=7 values.\n",
    "\n",
    "Problem Statement:\n",
    "Write a function to find moving average in an array over a window:\n",
    "Test it over [3, 5, 7, 2, 8, 10, 11, 65, 72, 81, 99, 100, 150] and window of 3."
   ]
  },
  {
   "cell_type": "code",
   "execution_count": 3,
   "metadata": {},
   "outputs": [
    {
     "name": "stdout",
     "output_type": "stream",
     "text": [
      "        0\n",
      "2     5.0\n",
      "3     4.7\n",
      "4     5.7\n",
      "5     6.7\n",
      "6     9.7\n",
      "7    28.7\n",
      "8    49.3\n",
      "9    72.7\n",
      "10   84.0\n",
      "11   93.3\n",
      "12  116.3\n"
     ]
    }
   ],
   "source": [
    "import pandas as pd\n",
    "import numpy as np\n",
    "\n",
    "def findmovingaverage(arr, window):\n",
    "    df = pd.DataFrame(arr)\n",
    "    avg = df.rolling(window).mean()\n",
    "    avg = avg.dropna(how='any')\n",
    "    print(np.round(avg, 1))\n",
    "\n",
    "mylist = [3, 5, 7, 2, 8, 10, 11, 65, 72, 81, 99, 100, 150]\n",
    "findmovingaverage(mylist, 3)\n",
    "\n"
   ]
  },
  {
   "cell_type": "markdown",
   "metadata": {},
   "source": [
    "Task 2"
   ]
  },
  {
   "cell_type": "markdown",
   "metadata": {},
   "source": [
    "1.\n",
    "How-to-count-distance-to-the-previous-zero\n",
    "For each value, count the difference back to the previous zero (or the start of the Series,\n",
    "whichever is closer)\n",
    "create a new column 'Y'\n",
    "Consider a DataFrame df where there is an integer column 'X'\n",
    "import pandas as pd\n",
    "df = pd.DataFrame({'X': [7, 2, 0, 3, 4, 2, 5, 0, 3, 4]})\n"
   ]
  },
  {
   "cell_type": "code",
   "execution_count": 148,
   "metadata": {},
   "outputs": [
    {
     "data": {
      "text/html": [
       "<div>\n",
       "<style scoped>\n",
       "    .dataframe tbody tr th:only-of-type {\n",
       "        vertical-align: middle;\n",
       "    }\n",
       "\n",
       "    .dataframe tbody tr th {\n",
       "        vertical-align: top;\n",
       "    }\n",
       "\n",
       "    .dataframe thead th {\n",
       "        text-align: right;\n",
       "    }\n",
       "</style>\n",
       "<table border=\"1\" class=\"dataframe\">\n",
       "  <thead>\n",
       "    <tr style=\"text-align: right;\">\n",
       "      <th></th>\n",
       "      <th>X</th>\n",
       "      <th>Y</th>\n",
       "    </tr>\n",
       "  </thead>\n",
       "  <tbody>\n",
       "    <tr>\n",
       "      <th>0</th>\n",
       "      <td>7</td>\n",
       "      <td>1.0</td>\n",
       "    </tr>\n",
       "    <tr>\n",
       "      <th>1</th>\n",
       "      <td>2</td>\n",
       "      <td>2.0</td>\n",
       "    </tr>\n",
       "    <tr>\n",
       "      <th>2</th>\n",
       "      <td>0</td>\n",
       "      <td>0.0</td>\n",
       "    </tr>\n",
       "    <tr>\n",
       "      <th>3</th>\n",
       "      <td>3</td>\n",
       "      <td>1.0</td>\n",
       "    </tr>\n",
       "    <tr>\n",
       "      <th>4</th>\n",
       "      <td>4</td>\n",
       "      <td>2.0</td>\n",
       "    </tr>\n",
       "    <tr>\n",
       "      <th>5</th>\n",
       "      <td>2</td>\n",
       "      <td>3.0</td>\n",
       "    </tr>\n",
       "    <tr>\n",
       "      <th>6</th>\n",
       "      <td>5</td>\n",
       "      <td>4.0</td>\n",
       "    </tr>\n",
       "    <tr>\n",
       "      <th>7</th>\n",
       "      <td>0</td>\n",
       "      <td>0.0</td>\n",
       "    </tr>\n",
       "    <tr>\n",
       "      <th>8</th>\n",
       "      <td>3</td>\n",
       "      <td>1.0</td>\n",
       "    </tr>\n",
       "    <tr>\n",
       "      <th>9</th>\n",
       "      <td>4</td>\n",
       "      <td>2.0</td>\n",
       "    </tr>\n",
       "  </tbody>\n",
       "</table>\n",
       "</div>"
      ],
      "text/plain": [
       "   X    Y\n",
       "0  7  1.0\n",
       "1  2  2.0\n",
       "2  0  0.0\n",
       "3  3  1.0\n",
       "4  4  2.0\n",
       "5  2  3.0\n",
       "6  5  4.0\n",
       "7  0  0.0\n",
       "8  3  1.0\n",
       "9  4  2.0"
      ]
     },
     "execution_count": 148,
     "metadata": {},
     "output_type": "execute_result"
    }
   ],
   "source": [
    "df = pd.DataFrame({'X': [7, 2, 0, 3, 4, 2, 5, 0, 3, 4]})\n",
    "y = []\n",
    "x = (df.X != 0).cumsum()\n",
    "y = x != x.shift()\n",
    "y = y.groupby((y != y.shift()).cumsum()).cumsum()\n",
    "df['Y'] = pd.DataFrame(y)\n",
    "df     \n",
    "    \n"
   ]
  },
  {
   "cell_type": "markdown",
   "metadata": {},
   "source": [
    "2.\n",
    "Create a DatetimeIndex that contains each business day of 2015 and use it to index a Series of\n",
    "random numbers."
   ]
  },
  {
   "cell_type": "code",
   "execution_count": 49,
   "metadata": {},
   "outputs": [
    {
     "name": "stdout",
     "output_type": "stream",
     "text": [
      "2015-01-01    125\n",
      "2015-01-02    219\n",
      "2015-01-05    293\n",
      "2015-01-06     64\n",
      "2015-01-07    354\n",
      "2015-01-08     65\n",
      "2015-01-09     20\n",
      "2015-01-12    263\n",
      "2015-01-13    249\n",
      "2015-01-14     88\n",
      "2015-01-15    281\n",
      "2015-01-16    318\n",
      "2015-01-19     64\n",
      "2015-01-20    376\n",
      "2015-01-21    368\n",
      "2015-01-22    252\n",
      "2015-01-23    114\n",
      "2015-01-26    339\n",
      "2015-01-27    344\n",
      "2015-01-28     48\n",
      "2015-01-29    217\n",
      "2015-01-30     47\n",
      "2015-02-02     94\n",
      "2015-02-03     72\n",
      "2015-02-04    327\n",
      "2015-02-05    285\n",
      "2015-02-06    199\n",
      "2015-02-09     85\n",
      "2015-02-10    146\n",
      "2015-02-11     86\n",
      "             ... \n",
      "2015-11-20    268\n",
      "2015-11-23    355\n",
      "2015-11-24    194\n",
      "2015-11-25     20\n",
      "2015-11-26    185\n",
      "2015-11-27    383\n",
      "2015-11-30    324\n",
      "2015-12-01    129\n",
      "2015-12-02     47\n",
      "2015-12-03    183\n",
      "2015-12-04    224\n",
      "2015-12-07    113\n",
      "2015-12-08    244\n",
      "2015-12-09    174\n",
      "2015-12-10     14\n",
      "2015-12-11    251\n",
      "2015-12-14     31\n",
      "2015-12-15    363\n",
      "2015-12-16    113\n",
      "2015-12-17    291\n",
      "2015-12-18     18\n",
      "2015-12-21    317\n",
      "2015-12-22    395\n",
      "2015-12-23     17\n",
      "2015-12-24    337\n",
      "2015-12-25     77\n",
      "2015-12-28    229\n",
      "2015-12-29     65\n",
      "2015-12-30      2\n",
      "2015-12-31    392\n",
      "Freq: B, Length: 261, dtype: int64\n"
     ]
    }
   ],
   "source": [
    "import pandas as pd\n",
    "import numpy as np\n",
    "\n",
    "df = pd.bdate_range(start='2015-01-01', end='2015-12-31', freq='B')\n",
    "rand_var = [np.random.randint(1,400) for k in df]\n",
    "s = pd.Series(data=rand_var, index=df)\n",
    "print(s)"
   ]
  },
  {
   "cell_type": "markdown",
   "metadata": {},
   "source": [
    "3.\n",
    "Find the sum of the values in s for every Wednesday"
   ]
  },
  {
   "cell_type": "code",
   "execution_count": 139,
   "metadata": {},
   "outputs": [
    {
     "name": "stdout",
     "output_type": "stream",
     "text": [
      "Sum of the values in s for every wednesday :  9539\n"
     ]
    }
   ],
   "source": [
    "s_wednesday = s.groupby([lambda x: x.weekday_name]).sum()\n",
    "print(\"Sum of the values in s for every wednesday : \", s_wednesday[4])"
   ]
  },
  {
   "cell_type": "markdown",
   "metadata": {},
   "source": [
    "4.\n",
    "Average For each calendar month"
   ]
  },
  {
   "cell_type": "code",
   "execution_count": 51,
   "metadata": {},
   "outputs": [
    {
     "name": "stdout",
     "output_type": "stream",
     "text": [
      "April        214.1\n",
      "August       152.4\n",
      "December     175.0\n",
      "February     166.6\n",
      "January      204.9\n",
      "July         160.0\n",
      "June         166.7\n",
      "March        224.2\n",
      "May          280.0\n",
      "November     236.6\n",
      "October      202.8\n",
      "September    219.0\n",
      "dtype: float64\n"
     ]
    }
   ],
   "source": [
    "average = s.groupby([lambda x: x.month_name()]).mean()\n",
    "print(np.round(average, 1))"
   ]
  },
  {
   "cell_type": "markdown",
   "metadata": {},
   "source": [
    "5.\n",
    "For each group of four consecutive calendar months in s, find the date on which the highest\n",
    "value occurred.\n"
   ]
  },
  {
   "cell_type": "code",
   "execution_count": 52,
   "metadata": {},
   "outputs": [
    {
     "data": {
      "text/html": [
       "<div>\n",
       "<style scoped>\n",
       "    .dataframe tbody tr th:only-of-type {\n",
       "        vertical-align: middle;\n",
       "    }\n",
       "\n",
       "    .dataframe tbody tr th {\n",
       "        vertical-align: top;\n",
       "    }\n",
       "\n",
       "    .dataframe thead th {\n",
       "        text-align: right;\n",
       "    }\n",
       "</style>\n",
       "<table border=\"1\" class=\"dataframe\">\n",
       "  <thead>\n",
       "    <tr style=\"text-align: right;\">\n",
       "      <th></th>\n",
       "      <th>idxmax</th>\n",
       "      <th>max</th>\n",
       "    </tr>\n",
       "  </thead>\n",
       "  <tbody>\n",
       "    <tr>\n",
       "      <th>2015-01-30</th>\n",
       "      <td>2015-01-20</td>\n",
       "      <td>376</td>\n",
       "    </tr>\n",
       "    <tr>\n",
       "      <th>2015-05-29</th>\n",
       "      <td>2015-05-01</td>\n",
       "      <td>389</td>\n",
       "    </tr>\n",
       "    <tr>\n",
       "      <th>2015-09-30</th>\n",
       "      <td>2015-09-23</td>\n",
       "      <td>399</td>\n",
       "    </tr>\n",
       "  </tbody>\n",
       "</table>\n",
       "</div>"
      ],
      "text/plain": [
       "               idxmax  max\n",
       "2015-01-30 2015-01-20  376\n",
       "2015-05-29 2015-05-01  389\n",
       "2015-09-30 2015-09-23  399"
      ]
     },
     "execution_count": 52,
     "metadata": {},
     "output_type": "execute_result"
    }
   ],
   "source": [
    "s.groupby(pd.Grouper(freq='4BM')).agg(['idxmax', 'max'])[:3]"
   ]
  }
 ],
 "metadata": {
  "kernelspec": {
   "display_name": "Python 3",
   "language": "python",
   "name": "python3"
  },
  "language_info": {
   "codemirror_mode": {
    "name": "ipython",
    "version": 3
   },
   "file_extension": ".py",
   "mimetype": "text/x-python",
   "name": "python",
   "nbconvert_exporter": "python",
   "pygments_lexer": "ipython3",
   "version": "3.6.5"
  }
 },
 "nbformat": 4,
 "nbformat_minor": 2
}
